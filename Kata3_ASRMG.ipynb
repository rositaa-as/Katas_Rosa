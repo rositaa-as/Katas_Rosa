{
 "cells": [
  {
   "cell_type": "markdown",
   "metadata": {},
   "source": [
    "Kata 3"
   ]
  },
  {
   "cell_type": "markdown",
   "metadata": {},
   "source": [
    "# Lógica booleana "
   ]
  },
  {
   "cell_type": "markdown",
   "metadata": {},
   "source": [
    "Problema 1"
   ]
  },
  {
   "cell_type": "code",
   "execution_count": null,
   "metadata": {},
   "outputs": [],
   "source": [
    "#advertencia asteroide \n",
    "\n",
    "velo_aste = 49\n",
    "\n",
    "if (velo_aste > 25):\n",
    "    print(\"¡PELIGRO!,un asteroide se acerca demasiado rápido a la tierra!.\")\n",
    "else:\n",
    "    print(\"No hay asteroides cerca, sigue con tu día! :)   \")\n"
   ]
  },
  {
   "cell_type": "markdown",
   "metadata": {},
   "source": [
    "Problema 2"
   ]
  },
  {
   "cell_type": "code",
   "execution_count": null,
   "metadata": {},
   "outputs": [],
   "source": [
    "velo_aste = 19\n",
    "\n",
    "if (velo_aste == 20):\n",
    "    print(\"Mira!!, se ve una luz en el cielo!\") #se puede resumir con un \">=\" y así ya no se usa elif \n",
    "elif (velo_aste >20):\n",
    "    print(\"Mira la luz que está en el cielo!\")\n",
    "else:\n",
    "    print(\"No se ve nada en el cielo \")"
   ]
  },
  {
   "cell_type": "markdown",
   "metadata": {},
   "source": [
    "# Operadores Lógicos- and y or"
   ]
  },
  {
   "cell_type": "markdown",
   "metadata": {},
   "source": [
    "Problema 3"
   ]
  },
  {
   "cell_type": "code",
   "execution_count": null,
   "metadata": {},
   "outputs": [],
   "source": [
    "\"\"\"\"\n",
    "-los asteroides de menos de 25m probablemente se quemarán a medida de que entran\n",
    "-si es más grande de 25m pero más pequeño que 1000m golperá la tierra y causará mucho daño\n",
    "-velocidades mayores a 25 km/s merece advertencia\n",
    "-si un asteroide tiene una velocidad mayor o igual a 20km/s se produce un rayo de luz \n",
    "\"\"\" \n",
    "\n",
    "velocidad = 30\n",
    "tamaño = 76\n",
    "\n",
    "if velocidad > 25 and tamaño > 25  and tamaño< 1000:\n",
    "    print(\"¡PELIGRO!, Un asteroide se acerca a la tierra!!.\")\n",
    "elif velocidad >=20:\n",
    "    print(\"Mira el cielo!!! se ve una luz\")\n",
    "elif tamaño< 25:\n",
    "    print(\"Fuera de peligro, continua con tu día :)\")\n",
    "else:    \n",
    "    (\"No hay asteroides cerca, continua con tus actividades :)\")\n"
   ]
  }
 ],
 "metadata": {
  "interpreter": {
   "hash": "73b7dc4c85cb779cced091c16a8a271235d7156b43cf9e5ab04204643928f4c8"
  },
  "kernelspec": {
   "display_name": "Python 3.9.10 32-bit",
   "language": "python",
   "name": "python3"
  },
  "language_info": {
   "codemirror_mode": {
    "name": "ipython",
    "version": 3
   },
   "file_extension": ".py",
   "mimetype": "text/x-python",
   "name": "python",
   "nbconvert_exporter": "python",
   "pygments_lexer": "ipython3",
   "version": "3.9.10"
  },
  "orig_nbformat": 4
 },
 "nbformat": 4,
 "nbformat_minor": 2
}
