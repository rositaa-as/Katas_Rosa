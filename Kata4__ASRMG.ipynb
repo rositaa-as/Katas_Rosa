{
 "cells": [
  {
   "cell_type": "markdown",
   "metadata": {},
   "source": [
    "Kata 4\n"
   ]
  },
  {
   "cell_type": "markdown",
   "metadata": {},
   "source": [
    "# Transformar cadenas "
   ]
  },
  {
   "cell_type": "markdown",
   "metadata": {},
   "source": [
    "Problema 1"
   ]
  },
  {
   "cell_type": "code",
   "execution_count": 1,
   "metadata": {},
   "outputs": [
    {
     "data": {
      "text/plain": [
       "['Interesting facts about the Moon',\n",
       " \"The Moon is Earth's only satellite\",\n",
       " 'There are several interesting facts about the Moon and how it affects life here on Earth',\n",
       " '\\nOn average, the Moon moves 4cm away from the Earth every year',\n",
       " 'This yearly drift is not significant enough to cause immediate effects on Earth',\n",
       " 'The highest daylight temperature of the Moon is 127 C.']"
      ]
     },
     "execution_count": 1,
     "metadata": {},
     "output_type": "execute_result"
    }
   ],
   "source": [
    "text = \"\"\"Interesting facts about the Moon. The Moon is Earth's only satellite. There are several interesting facts about the Moon and how it affects life here on Earth. \n",
    "On average, the Moon moves 4cm away from the Earth every year. This yearly drift is not significant enough to cause immediate effects on Earth. The highest daylight temperature of the Moon is 127 C.\"\"\"\n",
    "\n",
    "#dividir cadena \n",
    "partes = text.split('. ')\n",
    "partes \n"
   ]
  },
  {
   "cell_type": "code",
   "execution_count": 14,
   "metadata": {},
   "outputs": [
    {
     "name": "stdout",
     "output_type": "stream",
     "text": [
      "\n",
      "On average, the Moon moves 4cm away from the Earth every year\n",
      "The highest daylight temperature of the Moon is 127 C.\n"
     ]
    }
   ],
   "source": [
    "#palabras clave average, temperature y distance\n",
    "\n",
    "palabras_clave = [\"average\", \"temperature\", \"distance\"]\n",
    "\n",
    "#imprimir datos que están relacionados con las palabras clave \n",
    "\n",
    "for enunciado in partes:\n",
    "    for palabra in palabras_clave:\n",
    "        if palabra in enunciado:\n",
    "            print(enunciado)"
   ]
  },
  {
   "cell_type": "code",
   "execution_count": 13,
   "metadata": {},
   "outputs": [
    {
     "name": "stdout",
     "output_type": "stream",
     "text": [
      "\n",
      "On average, the Moon moves 4cm away from the Earth every year\n",
      "The highest daylight temperature of the Moon is 127 Celsius.\n"
     ]
    }
   ],
   "source": [
    "#cambiar C por celcius \n",
    "for enunciado in partes:\n",
    "    for palabra in palabras_clave:\n",
    "        if palabra in enunciado:\n",
    "            print(enunciado.replace(\"C\", \"Celsius\"))\n",
    "            break "
   ]
  },
  {
   "cell_type": "markdown",
   "metadata": {},
   "source": [
    "# Formateando Cadenas "
   ]
  },
  {
   "cell_type": "markdown",
   "metadata": {},
   "source": [
    "Problema 2"
   ]
  },
  {
   "cell_type": "code",
   "execution_count": 1,
   "metadata": {},
   "outputs": [],
   "source": [
    "#Datos para el problema \n",
    "nombre = \"Luna\"\n",
    "gravedad = 0.00162  \n",
    "planeta = \"Tierra\"\n",
    "\n",
    "#titulo\n",
    "titulo = f\"Datos de la gravedad sobre {nombre}\"\n"
   ]
  },
  {
   "cell_type": "code",
   "execution_count": 2,
   "metadata": {},
   "outputs": [
    {
     "name": "stdout",
     "output_type": "stream",
     "text": [
      "Datos De La Gravedad Sobre Luna \n",
      "--------------------------------------------------------------------------------\n",
      "Nombre del Planeta: Tierra\n",
      "Gravedad en Luna: 1.6199999999999999 m/s2  \n",
      "\n"
     ]
    }
   ],
   "source": [
    "#plantilla \n",
    "hechos= f\"\"\"{\"-\"*80}\n",
    "Nombre del Planeta: {planeta}\n",
    "Gravedad en {nombre}: {gravedad*1000 } m/s2 \"\"\"\n",
    "\n",
    "#Union cadenas \n",
    "union = f\"\"\"{titulo.title()} \n",
    "{hechos} \n",
    "\"\"\" \n",
    "print(union)\n"
   ]
  },
  {
   "cell_type": "code",
   "execution_count": 4,
   "metadata": {},
   "outputs": [
    {
     "name": "stdout",
     "output_type": "stream",
     "text": [
      " \n",
      "Datos De La Gravedad Sobre: Ganímedes\n",
      "--------------------------------------------------------------------------------\n",
      "Nombre del Planeta: Marte\n",
      "Gravedad en Ganímedes: 1.4300000000000002 m/s2 \n"
     ]
    }
   ],
   "source": [
    "# actualizar datos\n",
    "planeta= \"Marte\"\n",
    "gravedad = 0.00143\n",
    "nombre = \"Ganímedes\"\n",
    "\n",
    "nuevo = \"\"\" \n",
    "Datos De La Gravedad Sobre: {nombre}\n",
    "--------------------------------------------------------------------------------\n",
    "Nombre del Planeta: {planeta}\n",
    "Gravedad en {nombre}: {gravedad} m/s2 \"\"\"\n",
    "\n",
    "#imprimir\n",
    "print(nuevo.format(nombre= nombre, planeta=planeta, gravedad= gravedad*1000))"
   ]
  }
 ],
 "metadata": {
  "interpreter": {
   "hash": "73b7dc4c85cb779cced091c16a8a271235d7156b43cf9e5ab04204643928f4c8"
  },
  "kernelspec": {
   "display_name": "Python 3.9.10 32-bit",
   "language": "python",
   "name": "python3"
  },
  "language_info": {
   "codemirror_mode": {
    "name": "ipython",
    "version": 3
   },
   "file_extension": ".py",
   "mimetype": "text/x-python",
   "name": "python",
   "nbconvert_exporter": "python",
   "pygments_lexer": "ipython3",
   "version": "3.9.10"
  },
  "orig_nbformat": 4
 },
 "nbformat": 4,
 "nbformat_minor": 2
}
