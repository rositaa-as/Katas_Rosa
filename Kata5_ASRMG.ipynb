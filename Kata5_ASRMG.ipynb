{
 "cells": [
  {
   "cell_type": "markdown",
   "metadata": {},
   "source": [
    "# Operadores aritméticos "
   ]
  },
  {
   "cell_type": "markdown",
   "metadata": {},
   "source": [
    "crear un código para calcular la distancia entre dos planetas\n"
   ]
  },
  {
   "cell_type": "code",
   "execution_count": 3,
   "metadata": {},
   "outputs": [
    {
     "name": "stdout",
     "output_type": "stream",
     "text": [
      "628949330 km\n",
      "390577533.93 millas\n"
     ]
    }
   ],
   "source": [
    "#variables / datos en kilometros \n",
    "tierra = 149597870\n",
    "jupiter= 778547200\n",
    "\n",
    "#calcular la distancia\n",
    "distancia = jupiter - tierra #kilometros\n",
    "dis_millas= distancia * 0.621\n",
    "\n",
    "print(distancia, \"km\")\n",
    "print(dis_millas, \"millas\")"
   ]
  },
  {
   "cell_type": "markdown",
   "metadata": {},
   "source": [
    "Ejercicio 2:\n",
    "cadenas en numeros y uso de valores absolutos"
   ]
  },
  {
   "cell_type": "code",
   "execution_count": 8,
   "metadata": {},
   "outputs": [
    {
     "name": "stdout",
     "output_type": "stream",
     "text": [
      "170000000 km\n",
      "105570000.0\n"
     ]
    }
   ],
   "source": [
    "\n",
    "#guardar datos en variables\n",
    "P1= int(input(\"Ingrese la distancia del sol para el primer planeta en KM\"))\n",
    "P2= int(input(\"Ingrese la distancia del sol para el segundo planeta en KM\"))\n",
    "\n",
    "\n",
    "#Valor absoluto\n",
    "distancia_k = P2 - P1 #kilometros\n",
    "dist_milla = distancia_k * 0.621 #millas\n",
    "\n",
    "print(distancia_k, \"km\")\n",
    "print(abs(dist_milla))\n"
   ]
  }
 ],
 "metadata": {
  "interpreter": {
   "hash": "73b7dc4c85cb779cced091c16a8a271235d7156b43cf9e5ab04204643928f4c8"
  },
  "kernelspec": {
   "display_name": "Python 3.9.10 32-bit",
   "language": "python",
   "name": "python3"
  },
  "language_info": {
   "codemirror_mode": {
    "name": "ipython",
    "version": 3
   },
   "file_extension": ".py",
   "mimetype": "text/x-python",
   "name": "python",
   "nbconvert_exporter": "python",
   "pygments_lexer": "ipython3",
   "version": "3.9.10"
  },
  "orig_nbformat": 4
 },
 "nbformat": 4,
 "nbformat_minor": 2
}
