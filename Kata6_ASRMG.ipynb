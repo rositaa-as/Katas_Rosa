{
 "cells": [
  {
   "cell_type": "markdown",
   "metadata": {},
   "source": [
    "# Listas"
   ]
  },
  {
   "cell_type": "markdown",
   "metadata": {},
   "source": [
    "Usar listas para almacenar nombres de los planetas "
   ]
  },
  {
   "cell_type": "code",
   "execution_count": 4,
   "metadata": {},
   "outputs": [
    {
     "name": "stdout",
     "output_type": "stream",
     "text": [
      "la cantidad de planetas en la lista es de:  8\n",
      "El numero actual de planetas en la lista es de:  9\n"
     ]
    }
   ],
   "source": [
    "#Lista de planetas\n",
    "planets = [\"Mercurio\", \"Venus\", \"Tierra\", \"Marte\", \"Júpiter\", \"Saturno\",\"Urano\", \"Neptuno\"]\n",
    "\n",
    "#Mostrar cantidad de planetas \n",
    "print(\"la cantidad de planetas en la lista es de: \",len(planets))\n",
    "\n",
    "#agregar  elementos\n",
    "planets.append(\"Plutón\")\n",
    "print(\"El numero actual de planetas en la lista es de: \", len(planets))\n"
   ]
  },
  {
   "cell_type": "markdown",
   "metadata": {},
   "source": [
    "Ejercicio 2\n"
   ]
  },
  {
   "cell_type": "code",
   "execution_count": 9,
   "metadata": {},
   "outputs": [
    {
     "name": "stdout",
     "output_type": "stream",
     "text": [
      "Tierra es el planeta numero 3 de la lista.\n",
      "Estos son los planetas más cerca que Tierra\n",
      "['Mercurio', 'Venus']\n",
      "Estos son los planetas más alla de Tierra\n",
      "['Marte', 'Júpiter', 'Saturno', 'Urano', 'Neptuno']\n"
     ]
    }
   ],
   "source": [
    "planets = [\"Mercurio\", \"Venus\", \"Tierra\", \"Marte\", \"Júpiter\", \"Saturno\",\"Urano\", \"Neptuno\"]\n",
    "\n",
    "planeta = input(\"Ingrese el nombre de un planeta iniciando con letra mayúscula: \")\n",
    "\n",
    "#buscar planeta\n",
    "resultado = planets.index(planeta)\n",
    "print(\"{} es el planeta numero {} de la lista.\".format(planeta,resultado+1))\n",
    "\n",
    "#Planetas mas cercanos al sol\n",
    "print(\"Estos son los planetas más cerca que \"+planeta)\n",
    "print(planets[0:resultado])\n",
    "\n",
    "#Planetas mas lejanos al sol\n",
    "print(\"Estos son los planetas más alla de \"+ planeta)\n",
    "print(planets[resultado +1:])\n"
   ]
  }
 ],
 "metadata": {
  "interpreter": {
   "hash": "73b7dc4c85cb779cced091c16a8a271235d7156b43cf9e5ab04204643928f4c8"
  },
  "kernelspec": {
   "display_name": "Python 3.9.10 32-bit",
   "language": "python",
   "name": "python3"
  },
  "language_info": {
   "codemirror_mode": {
    "name": "ipython",
    "version": 3
   },
   "file_extension": ".py",
   "mimetype": "text/x-python",
   "name": "python",
   "nbconvert_exporter": "python",
   "pygments_lexer": "ipython3",
   "version": "3.9.10"
  },
  "orig_nbformat": 4
 },
 "nbformat": 4,
 "nbformat_minor": 2
}
