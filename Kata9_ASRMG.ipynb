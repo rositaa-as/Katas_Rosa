{
 "cells": [
  {
   "cell_type": "markdown",
   "metadata": {},
   "source": [
    "# FUNCIONES\n"
   ]
  },
  {
   "cell_type": "code",
   "execution_count": 1,
   "metadata": {},
   "outputs": [
    {
     "name": "stdout",
     "output_type": "stream",
     "text": [
      "Fuel Report:\n",
      "    Total Average: 58.333333333333336%\n",
      "    Main tank: 90%\n",
      "    External tank: 50% \n",
      "    Hydrogen tank: 35% \n"
     ]
    }
   ],
   "source": [
    "# FUNCIÓN- leer 3 tanques\n",
    "def generador(tanque, tanque_externo, tanque_hidrigeno):\n",
    "    total= (tanque + tanque_externo + tanque_hidrigeno) / 3\n",
    "    return f\"\"\"Fuel Report:\n",
    "    Total Average: {total}%\n",
    "    Main tank: {tanque}%\n",
    "    External tank: {tanque_externo}% \n",
    "    Hydrogen tank: {tanque_hidrigeno}% \"\"\"\n",
    "\n",
    "#llamar función\n",
    "print(generador(90,50,35))"
   ]
  },
  {
   "cell_type": "code",
   "execution_count": 2,
   "metadata": {},
   "outputs": [
    {
     "data": {
      "text/plain": [
       "82.0"
      ]
     },
     "execution_count": 2,
     "metadata": {},
     "output_type": "execute_result"
    }
   ],
   "source": [
    "#Función promedio\n",
    "def average(values):\n",
    "    total= sum(values)\n",
    "    num_items = len(values)\n",
    "    return total/num_items\n",
    "average([80,85,81])"
   ]
  },
  {
   "cell_type": "code",
   "execution_count": 3,
   "metadata": {},
   "outputs": [
    {
     "name": "stdout",
     "output_type": "stream",
     "text": [
      "Fuel Report:\n",
      "    Total Average: 78.0%\n",
      "    Main tank: 88%\n",
      "    External tank: 76% \n",
      "    Hydrogen tank: 70% \n"
     ]
    }
   ],
   "source": [
    "#actualizar función\n",
    "def generador(tanque, tanque_externo, tanque_hidrigeno):\n",
    "    return f\"\"\"Fuel Report:\n",
    "    Total Average: {average([tanque,tanque_externo, tanque_hidrigeno])}%\n",
    "    Main tank: {tanque}%\n",
    "    External tank: {tanque_externo}% \n",
    "    Hydrogen tank: {tanque_hidrigeno}% \"\"\"\n",
    "\n",
    "print(generador(88,76,70))"
   ]
  },
  {
   "cell_type": "code",
   "execution_count": 4,
   "metadata": {},
   "outputs": [
    {
     "name": "stdout",
     "output_type": "stream",
     "text": [
      "\n",
      "    Mission to Mars\n",
      "    Total Travel time: 89 minutes\n",
      "    Total fuel left: 1500000 gallons \n"
     ]
    }
   ],
   "source": [
    "def mision(pre_launch_time, flight_time, destination, external_tank, main_tank):\n",
    "    return f\"\"\"\n",
    "    Mission to {destination}\n",
    "    Total Travel time: {pre_launch_time + flight_time} minutes\n",
    "    Total fuel left: {external_tank + main_tank} gallons \"\"\"\n",
    "\n",
    "print(mision(18,71, \"Mars\",600000, 900000))"
   ]
  },
  {
   "cell_type": "code",
   "execution_count": 5,
   "metadata": {},
   "outputs": [
    {
     "name": "stdout",
     "output_type": "stream",
     "text": [
      "\n",
      "    Mission to Moon\n",
      "    Total Travel time: 76 minutes\n",
      "    Total fuel left: 500000 gallons \n"
     ]
    }
   ],
   "source": [
    "def mision( destination, *minutes, **fuel_reservoirs):\n",
    "    return f\"\"\"\n",
    "    Mission to {destination}\n",
    "    Total Travel time: {sum(minutes)} minutes\n",
    "    Total fuel left: {sum(fuel_reservoirs.values())} gallons \"\"\"\n",
    "\n",
    "print(mision(\"Moon\", 10, 15, 51, main=300000, external=200000))"
   ]
  },
  {
   "cell_type": "code",
   "execution_count": 9,
   "metadata": {},
   "outputs": [
    {
     "name": "stdout",
     "output_type": "stream",
     "text": [
      "\n",
      "    Mission to Moon\n",
      "    Total Travel time: 74 minutes\n",
      "    Total fuel left: 500000 gallons\n",
      "    main tank ---> 300000 gallons left\n",
      "external tank ---> 200000 gallons left\n",
      "\n"
     ]
    }
   ],
   "source": [
    "def mision( destination, *minutes, **fuel_reservoirs):\n",
    "    main_report= f\"\"\"\n",
    "    Mission to {destination}\n",
    "    Total Travel time: {sum(minutes)} minutes\n",
    "    Total fuel left: {sum(fuel_reservoirs.values())} gallons\n",
    "    \"\"\"\n",
    "    for tank_name, gallons in fuel_reservoirs.items():\n",
    "        main_report += f\"{tank_name} tank ---> {gallons} gallons left\\n\"\n",
    "    return main_report\n",
    "\n",
    "print(mision(\"Moon\", 8, 11, 55 , main=300000, external=200000))"
   ]
  }
 ],
 "metadata": {
  "interpreter": {
   "hash": "73b7dc4c85cb779cced091c16a8a271235d7156b43cf9e5ab04204643928f4c8"
  },
  "kernelspec": {
   "display_name": "Python 3.9.10 32-bit",
   "language": "python",
   "name": "python3"
  },
  "language_info": {
   "codemirror_mode": {
    "name": "ipython",
    "version": 3
   },
   "file_extension": ".py",
   "mimetype": "text/x-python",
   "name": "python",
   "nbconvert_exporter": "python",
   "pygments_lexer": "ipython3",
   "version": "3.9.10"
  },
  "orig_nbformat": 4
 },
 "nbformat": 4,
 "nbformat_minor": 2
}
